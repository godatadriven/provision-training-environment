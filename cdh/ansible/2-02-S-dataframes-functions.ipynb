{
 "cells": [
  {
   "cell_type": "code",
   "execution_count": null,
   "metadata": {},
   "outputs": [],
   "source": [
    "dir_root = '/user/centos/'\n",
    "import findspark\n",
    "findspark.init()\n",
    "\n",
    "from pyspark.sql import SparkSession\n",
    "import numpy as np\n",
    "\n",
    "spark = SparkSession.builder.getOrCreate()\n",
    "sc = spark.sparkContext"
   ]
  },
  {
   "cell_type": "code",
   "execution_count": null,
   "metadata": {},
   "outputs": [],
   "source": [
    "from pyspark.sql import functions as sf"
   ]
  },
  {
   "cell_type": "code",
   "execution_count": null,
   "metadata": {},
   "outputs": [],
   "source": [
    "ddf = spark.createDataFrame([[np.nan, 'John'],\n",
    "                             [None, 'Michael'],\n",
    "                             [30., 'Andy'],\n",
    "                             [19., 'Justin'],\n",
    "                             [30., 'James Dr No From Russia with Love Bond']], \n",
    "                             schema = ['age', 'name'])"
   ]
  },
  {
   "cell_type": "markdown",
   "metadata": {},
   "source": [
    "### *Exercise*"
   ]
  },
  {
   "cell_type": "markdown",
   "metadata": {
    "slideshow": {
     "slide_type": "slide"
    }
   },
   "source": [
    "1. Explore the `ddf_air` DF\n",
    "    - count how many NaN's you have in each column;\n",
    "2. Fill the NaN with something that makes sense for each column.\n",
    "3. With a UDF, capture the state in the `airport_name` column (e.g. 'NY' in 'New York, NY: John F. Kennedy International') and\n",
    "4. make a new dataframe `ddf_states` with columns `airport, state`\n",
    "3. Remove duplicates from ddf_states (hint: lookup `drop_duplicates()` in the docs)\n",
    "3. Join `ddf_states` onto the original `ddf_air` \n",
    "7. add a column weather_condition that is \n",
    "```\n",
    "'rainy' if the `weather_delay` is greather than 1200\n",
    "'stormy' if in addition to this the arrival is diverted by more than 15 minutes\n",
    "'bright' otherwise\n",
    "```\n",
    "6. Split the DF into a train and test set sorted by time cols (hint: lookup `limit()` or `randomSplit()` in the docs )"
   ]
  },
  {
   "cell_type": "code",
   "execution_count": null,
   "metadata": {},
   "outputs": [],
   "source": [
    "# 1.\n",
    "ddf_air = spark.read.load(dir_root + 'data/airlines.parquet')\n",
    "ddf_air.show(5)"
   ]
  },
  {
   "cell_type": "markdown",
   "metadata": {
    "slideshow": {
     "slide_type": "slide"
    }
   },
   "source": [
    "Columns mean:\n",
    "\n",
    "* `arr_flights`: flights arrived\n",
    "* `arr_del15`: flights delayed more than 15';\n",
    "* `carrier_ct`: delayed by carrier;\n",
    "* `weather_ct`: by weather;\n",
    "* `nas_ct`: by national aviation system;\n",
    "* `security_ct`: by security;\n",
    "* `late_aircraft_ct`: by late aircraft arrival;\n",
    "* `arr_cancelled`: cancelled;\n",
    "* `arr_diverted`: deverted;\n",
    "* `arr_delay`: total delay and then breakdown below;\n",
    "* `carrier_delay`;\n",
    "* `weather_delay`;\n",
    "* `nas_delay`;\n",
    "* `security_delay`;\n",
    "* `late_aircraft_delay`."
   ]
  },
  {
   "cell_type": "code",
   "execution_count": null,
   "metadata": {},
   "outputs": [],
   "source": [
    "# 1a\n",
    "\n",
    "ddf_air_length = ddf_air.count()\n",
    "for col in ddf_air.columns:\n",
    "    print col, ddf_air_length - ddf_air.dropna(subset=col).count()"
   ]
  },
  {
   "cell_type": "code",
   "execution_count": null,
   "metadata": {},
   "outputs": [],
   "source": [
    "# 2\n",
    "ddf_air = ddf_air.fillna(0)"
   ]
  },
  {
   "cell_type": "code",
   "execution_count": null,
   "metadata": {},
   "outputs": [],
   "source": [
    "# 3 & 4 & 5\n",
    "from pyspark.sql.types import StringType\n",
    "state = sf.udf(lambda s: s.split(':')[0][-2:], StringType())\n",
    "ddf_states = (ddf_air\n",
    "              .withColumn('state', state(sf.col('airport_name')))\n",
    "              .select('airport', 'state')\n",
    "              .drop_duplicates())\n",
    "ddf_states.show()"
   ]
  },
  {
   "cell_type": "code",
   "execution_count": null,
   "metadata": {},
   "outputs": [],
   "source": [
    "# 6.\n",
    "ddf_air_joined = ddf_air.join(ddf_states, on = ['airport'])\n",
    "ddf_air_joined.show()"
   ]
  },
  {
   "cell_type": "code",
   "execution_count": null,
   "metadata": {},
   "outputs": [],
   "source": [
    "# 7.\n",
    "ddf_air_weather = (ddf_air_joined.withColumn('weather_condition', sf.when(sf.col('weather_delay') > 1200, 'rainy')\n",
    "                                                     .when((sf.col('weather_delay') > 1200) & \n",
    "                                                           (sf.col('arr_diverted') > 15), 'stormy')\n",
    "                                                     .otherwise('bright')))\n",
    "ddf_air_weather.show()"
   ]
  },
  {
   "cell_type": "code",
   "execution_count": null,
   "metadata": {},
   "outputs": [],
   "source": [
    "# 8.\n",
    "ddf_train = (ddf_air_weather.sort('year', 'month')\n",
    "                    .limit(20000))\n",
    "ddf_test = (ddf_air_weather.sort(sf.desc('year', 'month')\n",
    "                   .limit(8515)))"
   ]
  },
  {
   "cell_type": "code",
   "execution_count": null,
   "metadata": {
    "collapsed": true
   },
   "outputs": [],
   "source": [
    "# 8a.\n",
    "(ddf_train, ddf_test) = ddf_air_weather.randomSplit([0.8, 0.2])\n",
    "ddf_test.count()"
   ]
  },
  {
   "cell_type": "code",
   "execution_count": null,
   "metadata": {},
   "outputs": [],
   "source": []
  }
 ],
 "metadata": {
  "kernelspec": {
   "display_name": "Python 2",
   "language": "python",
   "name": "python2"
  },
  "language_info": {
   "codemirror_mode": {
    "name": "ipython",
    "version": 2
   },
   "file_extension": ".py",
   "mimetype": "text/x-python",
   "name": "python",
   "nbconvert_exporter": "python",
   "pygments_lexer": "ipython2",
   "version": "2.7.13"
  }
 },
 "nbformat": 4,
 "nbformat_minor": 1
}
