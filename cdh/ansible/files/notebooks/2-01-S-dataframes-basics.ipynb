{
 "cells": [
  {
   "cell_type": "code",
   "execution_count": null,
   "metadata": {
    "collapsed": true
   },
   "outputs": [],
   "source": [
    "dir_root = '/user/centos/'\n",
    "import findspark\n",
    "findspark.init()\n",
    "\n",
    "from pyspark.sql import SparkSession\n",
    "\n",
    "spark = SparkSession.builder.getOrCreate()\n",
    "sc = spark.sparkContext"
   ]
  },
  {
   "cell_type": "code",
   "execution_count": null,
   "metadata": {
    "collapsed": true
   },
   "outputs": [],
   "source": [
    "from pyspark.sql import functions as sf"
   ]
  },
  {
   "cell_type": "markdown",
   "metadata": {},
   "source": [
    "### *Exercises*"
   ]
  },
  {
   "cell_type": "markdown",
   "metadata": {},
   "source": [
    "1. Load the Heroes of the Storm dataset with read csv ('data/heroes.csv' in the hdfs homedir of user centos)\n",
    "2. check the dtypes: \n",
    "    - what do you notice?\n",
    "    - Fix it.\n",
    "2. Manually explore the data and look for corrupted/malformed data\n",
    "3. Find a way to remove these corrupted rows\n",
    "3. Which hero has the most hp?\n",
    "4. Add a column with the 'attack_momentum', computed as attack * attack_spd\n",
    "5. Which role on average has the highest attack?\n",
    "6. Figure out which roles and attack_type frequently co-occur\n",
    "7. Deliver a dataframe with the highest attack per role \n",
    "8. export to Pandas\n",
    "\n",
    "Bonus\n",
    "9. make a function that accepts a dataframe and a list colnames. Let it return the mean and stddev of the columns \n",
    "10. apply the function to the hp and attack column such that the result has columns:\n",
    "\n",
    "`hp_mean, hp_stddev, attack_mean, attack_stddev`"
   ]
  },
  {
   "cell_type": "code",
   "execution_count": null,
   "metadata": {
    "collapsed": true
   },
   "outputs": [],
   "source": [
    "# 1. Load\n",
    "ddf_heroes = spark.read.csv(dir_root + 'data/heroes.csv', header = True)"
   ]
  },
  {
   "cell_type": "code",
   "execution_count": null,
   "metadata": {},
   "outputs": [],
   "source": [
    "# 2a. Types\n",
    "ddf_heroes.dtypes"
   ]
  },
  {
   "cell_type": "code",
   "execution_count": null,
   "metadata": {
    "collapsed": true
   },
   "outputs": [],
   "source": [
    "# 2b. \n",
    "ddf_heroes = ddf_heroes.select( sf.col(\"_c0\"), sf.col(\"name\"), sf.col(\"hp\").cast('int').alias(\"hp\"), sf.col(\"attack\").cast('int').alias(\"attack\"), sf.col(\"attack_spd\").cast('float').alias(\"attack_spd\"), sf.col(\"attack_type\"), sf.col(\"role\") )"
   ]
  },
  {
   "cell_type": "code",
   "execution_count": null,
   "metadata": {},
   "outputs": [],
   "source": [
    "# 3.\n",
    "ddf_heroes.show(50)"
   ]
  },
  {
   "cell_type": "code",
   "execution_count": null,
   "metadata": {
    "collapsed": true
   },
   "outputs": [],
   "source": [
    "# 4. \n",
    "ddf_heroes = ddf_heroes.filter(sf.col('name') != 'Gall') # remove Gall"
   ]
  },
  {
   "cell_type": "code",
   "execution_count": null,
   "metadata": {},
   "outputs": [],
   "source": [
    "# 5.\n",
    "ddf_heroes.sort(sf.desc('hp')).show(5)"
   ]
  },
  {
   "cell_type": "code",
   "execution_count": null,
   "metadata": {},
   "outputs": [],
   "source": [
    "# 6. \n",
    "ddf_heroes = ddf_heroes.withColumn('attack_momentum', sf.col('attack') * sf.col('attack_spd'))\n",
    "ddf_heroes.show(5)"
   ]
  },
  {
   "cell_type": "code",
   "execution_count": null,
   "metadata": {
    "scrolled": true
   },
   "outputs": [],
   "source": [
    "# 7.\n",
    "ddf_heroes.groupBy('role').agg(sf.mean('attack')).sort(sf.desc('avg(attack)')).show()"
   ]
  },
  {
   "cell_type": "code",
   "execution_count": null,
   "metadata": {},
   "outputs": [],
   "source": [
    "# 8. \n",
    "ddf_heroes.groupBy('role', 'attack_type').count().show()"
   ]
  },
  {
   "cell_type": "code",
   "execution_count": null,
   "metadata": {},
   "outputs": [],
   "source": [
    "# 9.\n",
    "\n",
    "ddf_attack = ddf_heroes.groupBy('role').agg({'attack': 'max'})\n",
    "ddf_attack.show()"
   ]
  },
  {
   "cell_type": "code",
   "execution_count": null,
   "metadata": {},
   "outputs": [],
   "source": [
    "# 10.\n",
    "df = ddf_attack.toPandas()\n",
    "df"
   ]
  },
  {
   "cell_type": "code",
   "execution_count": null,
   "metadata": {
    "collapsed": true
   },
   "outputs": [],
   "source": [
    "## Add Bonus questions"
   ]
  }
 ],
 "metadata": {
  "kernelspec": {
   "display_name": "Python 2",
   "language": "python",
   "name": "python2"
  },
  "language_info": {
   "codemirror_mode": {
    "name": "ipython",
    "version": 2
   },
   "file_extension": ".py",
   "mimetype": "text/x-python",
   "name": "python",
   "nbconvert_exporter": "python",
   "pygments_lexer": "ipython2",
   "version": "2.7.13"
  }
 },
 "nbformat": 4,
 "nbformat_minor": 1
}
