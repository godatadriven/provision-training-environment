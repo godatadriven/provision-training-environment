{
 "cells": [
  {
   "cell_type": "markdown",
   "metadata": {
    "slideshow": {
     "slide_type": "slide"
    }
   },
   "source": [
    "# Spark DataFrames\n",
    "\n",
    "## Agenda\n",
    "\n",
    "- Welcome\n",
    "- Introductions\n",
    "- Course subjects\n",
    "- The environment"
   ]
  },
  {
   "cell_type": "markdown",
   "metadata": {
    "slideshow": {
     "slide_type": "slide"
    }
   },
   "source": [
    "## Welcome\n",
    "\n",
    "#### Wifi\n",
    "\n",
    "Use the `Xebia Guest` WiFi endpoint with the following password:\n",
    "\n",
    "`EasyAccess`\n",
    "\n",
    "to connect the laptop to the internet."
   ]
  },
  {
   "cell_type": "markdown",
   "metadata": {
    "slideshow": {
     "slide_type": "slide"
    }
   },
   "source": [
    "## About us\n",
    "\n",
    "##### Trainers\n",
    "+ Kris Geusenbroek\n",
    "+ Tünde Alkemade \n",
    "   \n",
    "   Big Data Hackers at GoDataDriven\n",
    "\n",
    "## Course subjects\n",
    "\n",
    "+ Short introduction to Spark and RDDs\n",
    "+ DataFrames\n",
    "  - DF operations; Windows ops;\n",
    "  - From DF's to Pandas DF's and back;"
   ]
  },
  {
   "cell_type": "markdown",
   "metadata": {
    "slideshow": {
     "slide_type": "slide"
    }
   },
   "source": [
    "## Environment\n",
    "\n",
    "+ Amazon machines - 50 * m3.2xlarge (ami-061b1560 - CentOS 7) running a Cloudera 5.13 cluster with Spark2 added\n",
    "\n",
    "How to connect to Jupyter notebook:\n",
    "\n",
    "- open your browser of choice, and navigate to one of the following machines\n",
    "    \n",
    "    http://`<ip>`:9912\n",
    "    \n",
    "    \n",
    "- password for Jupyter notebook: __letsgojupyter__\n",
    "    \n",
    "    \n",
    "- before you start on the exercise, please create a duplicate of the notebook that you're about to work on"
   ]
  },
  {
   "cell_type": "code",
   "execution_count": null,
   "metadata": {
    "collapsed": true
   },
   "outputs": [],
   "source": []
  }
 ],
 "metadata": {
  "celltoolbar": "Slideshow",
  "kernelspec": {
   "display_name": "Python 3",
   "language": "python",
   "name": "python3"
  },
  "language_info": {
   "codemirror_mode": {
    "name": "ipython",
    "version": 3
   },
   "file_extension": ".py",
   "mimetype": "text/x-python",
   "name": "python",
   "nbconvert_exporter": "python",
   "pygments_lexer": "ipython3",
   "version": "3.6.2"
  }
 },
 "nbformat": 4,
 "nbformat_minor": 1
}
