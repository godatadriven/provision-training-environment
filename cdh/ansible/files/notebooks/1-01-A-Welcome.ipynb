{
 "cells": [
  {
   "cell_type": "markdown",
   "metadata": {
    "slideshow": {
     "slide_type": "slide"
    }
   },
   "source": [
    "# Spark DataFrames\n",
    "\n",
    "## Agenda\n",
    "\n",
    "- Welcome\n",
    "- Introductions\n",
    "- Course subjects\n",
    "- The environment"
   ]
  },
  {
   "cell_type": "markdown",
   "metadata": {
    "slideshow": {
     "slide_type": "slide"
    }
   },
   "source": [
    "## Welcome\n",
    "\n",
    "- Class start and end times\n",
    "- Facilities\n",
    "    - Wifi\n",
    "    - Restrooms\n",
    "    - Lunch"
   ]
  },
  {
   "cell_type": "markdown",
   "metadata": {
    "slideshow": {
     "slide_type": "-"
    }
   },
   "source": [
    "#### Wifi\n",
    "\n",
    "Use the `Xebia Guest` WiFi endpoint with the following password:\n",
    "\n",
    "`EasyAccess`\n",
    "\n",
    "to connect the laptop to the internet."
   ]
  },
  {
   "cell_type": "markdown",
   "metadata": {
    "slideshow": {
     "slide_type": "slide"
    }
   },
   "source": [
    "## About us\n",
    "\n",
    "## Course subjects\n",
    "\n",
    "+ DataFrames:\n",
    "  - Basic concepts;\n",
    "  - DF operations;\n",
    "  - SparkSQL;\n",
    "  - Windows ops;\n",
    "  - From DF's to Pandas DF's and back;\n",
    "  - Loading and saving DF's;\n",
    "  - UDF & DF's;"
   ]
  },
  {
   "cell_type": "markdown",
   "metadata": {
    "slideshow": {
     "slide_type": "slide"
    }
   },
   "source": [
    "## Environment\n",
    "\n",
    "+ Amazon machines - 10 * m3.2xlarge (ami-061b1560 - CentOS 7)\n",
    "\n",
    "How to connect to Jupyter notebook:\n",
    "\n",
    "- open your browser of choice, and navigate to one of the following machines\n",
    "    \n",
    "    http://localhost:9912\n",
    "    \n",
    "    \n",
    "- password for Jupyter notebook: __letsgojupyter__\n",
    "    \n",
    "    \n",
    "- create your own folder where you'll develop the exercises\n",
    "\n",
    "\n",
    "- Use this only as read-only:\n",
    "    - general exercise folder:\n",
    "    - general solution folder:"
   ]
  },
  {
   "cell_type": "code",
   "execution_count": null,
   "metadata": {
    "collapsed": true
   },
   "outputs": [],
   "source": []
  }
 ],
 "metadata": {
  "celltoolbar": "Slideshow",
  "kernelspec": {
   "display_name": "Python 3",
   "language": "python",
   "name": "python3"
  },
  "language_info": {
   "codemirror_mode": {
    "name": "ipython",
    "version": 3
   },
   "file_extension": ".py",
   "mimetype": "text/x-python",
   "name": "python",
   "nbconvert_exporter": "python",
   "pygments_lexer": "ipython3",
   "version": "3.6.2"
  }
 },
 "nbformat": 4,
 "nbformat_minor": 1
}
