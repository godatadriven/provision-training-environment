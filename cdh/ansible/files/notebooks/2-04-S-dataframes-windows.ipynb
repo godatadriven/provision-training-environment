{
 "cells": [
  {
   "cell_type": "code",
   "execution_count": null,
   "metadata": {
    "collapsed": true
   },
   "outputs": [],
   "source": [
    "import sys\n",
    "import findspark\n",
    "findspark.init()\n",
    "\n",
    "from pyspark.sql import SparkSession\n",
    "from pyspark.sql import Window\n",
    "import pyspark.sql.functions as sf\n",
    "spark = SparkSession.builder.getOrCreate()"
   ]
  },
  {
   "cell_type": "code",
   "execution_count": null,
   "metadata": {
    "collapsed": true
   },
   "outputs": [],
   "source": [
    "ddf_air = spark.read.parquet('data/airlines.parquet')"
   ]
  },
  {
   "cell_type": "markdown",
   "metadata": {},
   "source": [
    "## Exercise\n",
    "Create a new column for a numeric column of your choice with the column difference with the previous month in the 'airport', 'carrier' window. When there is nothing in the previous element, put a 0 (not mathematically correct, but still)."
   ]
  },
  {
   "cell_type": "markdown",
   "metadata": {},
   "source": [
    "### *Solution*"
   ]
  },
  {
   "cell_type": "code",
   "execution_count": null,
   "metadata": {},
   "outputs": [],
   "source": [
    "wspec = Window.partitionBy('airport', 'carrier').orderBy('year', 'month')\n",
    "(ddf_air.withColumn('arr_flights_diff',\n",
    "                    sf.col('arr_flights') - sf.lag('arr_flights').over(wspec))\n",
    "        .fillna(0, subset=['arr_flights_diff'])).limit(20).toPandas().head().T"
   ]
  },
  {
   "cell_type": "markdown",
   "metadata": {},
   "source": [
    "## Exercise\n",
    "Remove all the groups of 'airport', 'carrier', 'year' where more than 20% of flights is delayed by 2000 (make the parameters adjustable!)"
   ]
  },
  {
   "cell_type": "markdown",
   "metadata": {},
   "source": [
    "### *Solution*"
   ]
  },
  {
   "cell_type": "code",
   "execution_count": null,
   "metadata": {},
   "outputs": [],
   "source": [
    "wspec = Window.partitionBy('airport', 'carrier', 'year')\n",
    "delay_threshold = 1000\n",
    "pct_threshold = 0.2\n",
    "ddf_delayed = (ddf_air.withColumn('above_delay_threshold',\n",
    "                     (sf.col('arr_delay') > delay_threshold).cast(\"int\"))\n",
    "         .withColumn('ones',\n",
    "                     sf.lit(1))\n",
    "         .withColumn('count_in_window',\n",
    "                     sf.sum('ones').over(wspec))\n",
    "         .withColumn('pct_above_delay_threshold',\n",
    "                     (sf.sum('above_delay_threshold').over(wspec) \n",
    "                      / sf.col('count_in_window')))\n",
    "         .filter(sf.col('pct_above_delay_threshold') < pct_threshold))\n",
    "ddf_delayed.show(5)"
   ]
  },
  {
   "cell_type": "markdown",
   "metadata": {},
   "source": [
    "## Exercise\n",
    "\n",
    "Take a look at the NA patterns in the ddf_air Df. It seems like low volume airports do not have flights every month!\n",
    "\n",
    "Let's do something barbaric then: fill all the NA columns with the previous value within the window 'airport', 'carrier', ordered by 'year', 'month'"
   ]
  },
  {
   "cell_type": "markdown",
   "metadata": {},
   "source": [
    "### *Solution*"
   ]
  },
  {
   "cell_type": "code",
   "execution_count": null,
   "metadata": {
    "collapsed": true
   },
   "outputs": [],
   "source": [
    "def fill_column_wprevious(df, column_name):\n",
    "    wspec = Window.partitionBy('airport', 'carrier').orderBy('year', 'month')\n",
    "    return (df.withColumn(column_name,\n",
    "                          sf.when(~sf.isnan(column_name), sf.col(column_name))\n",
    "                            .otherwise(sf.lag(column_name).over(wspec))))"
   ]
  },
  {
   "cell_type": "markdown",
   "metadata": {},
   "source": [
    "Check that it indeed works for a column"
   ]
  },
  {
   "cell_type": "code",
   "execution_count": null,
   "metadata": {},
   "outputs": [],
   "source": [
    "(fill_column_wprevious(ddf_air, \"arr_flights\").filter(\n",
    "                         (sf.col('year').isin([2014, 2015])) &\n",
    "                         (sf.col('month').isin([10, 11]))  &\n",
    "                         (sf.col('airport') == 'PSC') & \n",
    "                         (sf.col('carrier') == 'DL'))\n",
    "                         .toPandas().head().T)"
   ]
  },
  {
   "cell_type": "markdown",
   "metadata": {},
   "source": [
    "Now we can do it for every column"
   ]
  },
  {
   "cell_type": "code",
   "execution_count": null,
   "metadata": {
    "collapsed": true
   },
   "outputs": [],
   "source": [
    "intermediate = ddf_air\n",
    "\n",
    "for col in ddf_air.columns[6:]:\n",
    "    intermediate = fill_column_wprevious(intermediate, col)"
   ]
  },
  {
   "cell_type": "code",
   "execution_count": null,
   "metadata": {},
   "outputs": [],
   "source": [
    "intermediate.filter((sf.col('year').isin([2014, 2015])) &\n",
    "                         (sf.col('month').isin([10, 11]))  &\n",
    "                         (sf.col('airport') == 'PSC') & \n",
    "                         (sf.col('carrier') == 'DL')).toPandas().head().T"
   ]
  },
  {
   "cell_type": "code",
   "execution_count": null,
   "metadata": {
    "collapsed": true
   },
   "outputs": [],
   "source": []
  }
 ],
 "metadata": {
  "kernelspec": {
   "display_name": "Python 2",
   "language": "python",
   "name": "python2"
  },
  "language_info": {
   "codemirror_mode": {
    "name": "ipython",
    "version": 2
   },
   "file_extension": ".py",
   "mimetype": "text/x-python",
   "name": "python",
   "nbconvert_exporter": "python",
   "pygments_lexer": "ipython2",
   "version": "2.7.13"
  }
 },
 "nbformat": 4,
 "nbformat_minor": 1
}
